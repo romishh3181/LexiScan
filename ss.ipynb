{
 "cells": [
  {
   "cell_type": "code",
   "execution_count": 2,
   "metadata": {},
   "outputs": [
    {
     "name": "stdout",
     "output_type": "stream",
     "text": [
      "Collecting spacy\n",
      "  Downloading spacy-3.8.4-cp312-cp312-win_amd64.whl.metadata (27 kB)\n",
      "Collecting spacy-legacy<3.1.0,>=3.0.11 (from spacy)\n",
      "  Downloading spacy_legacy-3.0.12-py2.py3-none-any.whl.metadata (2.8 kB)\n",
      "Collecting spacy-loggers<2.0.0,>=1.0.0 (from spacy)\n",
      "  Downloading spacy_loggers-1.0.5-py3-none-any.whl.metadata (23 kB)\n",
      "Collecting murmurhash<1.1.0,>=0.28.0 (from spacy)\n",
      "  Downloading murmurhash-1.0.12-cp312-cp312-win_amd64.whl.metadata (2.2 kB)\n",
      "Collecting cymem<2.1.0,>=2.0.2 (from spacy)\n",
      "  Downloading cymem-2.0.11-cp312-cp312-win_amd64.whl.metadata (8.8 kB)\n",
      "Collecting preshed<3.1.0,>=3.0.2 (from spacy)\n",
      "  Downloading preshed-3.0.9-cp312-cp312-win_amd64.whl.metadata (2.2 kB)\n",
      "Collecting thinc<8.4.0,>=8.3.4 (from spacy)\n",
      "  Downloading thinc-8.3.4-cp312-cp312-win_amd64.whl.metadata (15 kB)\n",
      "Collecting wasabi<1.2.0,>=0.9.1 (from spacy)\n",
      "  Downloading wasabi-1.1.3-py3-none-any.whl.metadata (28 kB)\n",
      "Collecting srsly<3.0.0,>=2.4.3 (from spacy)\n",
      "  Downloading srsly-2.5.1-cp312-cp312-win_amd64.whl.metadata (20 kB)\n",
      "Collecting catalogue<2.1.0,>=2.0.6 (from spacy)\n",
      "  Downloading catalogue-2.0.10-py3-none-any.whl.metadata (14 kB)\n",
      "Collecting weasel<0.5.0,>=0.1.0 (from spacy)\n",
      "  Downloading weasel-0.4.1-py3-none-any.whl.metadata (4.6 kB)\n",
      "Collecting typer<1.0.0,>=0.3.0 (from spacy)\n",
      "  Downloading typer-0.15.1-py3-none-any.whl.metadata (15 kB)\n",
      "Requirement already satisfied: tqdm<5.0.0,>=4.38.0 in d:\\t&c analyser\\venv\\lib\\site-packages (from spacy) (4.67.1)\n",
      "Requirement already satisfied: numpy>=1.19.0 in d:\\t&c analyser\\venv\\lib\\site-packages (from spacy) (2.2.3)\n",
      "Requirement already satisfied: requests<3.0.0,>=2.13.0 in d:\\t&c analyser\\venv\\lib\\site-packages (from spacy) (2.32.3)\n",
      "Collecting pydantic!=1.8,!=1.8.1,<3.0.0,>=1.7.4 (from spacy)\n",
      "  Using cached pydantic-2.10.6-py3-none-any.whl.metadata (30 kB)\n",
      "Requirement already satisfied: jinja2 in d:\\t&c analyser\\venv\\lib\\site-packages (from spacy) (3.1.5)\n",
      "Requirement already satisfied: setuptools in d:\\t&c analyser\\venv\\lib\\site-packages (from spacy) (75.8.0)\n",
      "Requirement already satisfied: packaging>=20.0 in d:\\t&c analyser\\venv\\lib\\site-packages (from spacy) (24.2)\n",
      "Collecting langcodes<4.0.0,>=3.2.0 (from spacy)\n",
      "  Downloading langcodes-3.5.0-py3-none-any.whl.metadata (29 kB)\n",
      "Collecting language-data>=1.2 (from langcodes<4.0.0,>=3.2.0->spacy)\n",
      "  Downloading language_data-1.3.0-py3-none-any.whl.metadata (4.3 kB)\n",
      "Collecting annotated-types>=0.6.0 (from pydantic!=1.8,!=1.8.1,<3.0.0,>=1.7.4->spacy)\n",
      "  Using cached annotated_types-0.7.0-py3-none-any.whl.metadata (15 kB)\n",
      "Collecting pydantic-core==2.27.2 (from pydantic!=1.8,!=1.8.1,<3.0.0,>=1.7.4->spacy)\n",
      "  Using cached pydantic_core-2.27.2-cp312-cp312-win_amd64.whl.metadata (6.7 kB)\n",
      "Requirement already satisfied: typing-extensions>=4.12.2 in d:\\t&c analyser\\venv\\lib\\site-packages (from pydantic!=1.8,!=1.8.1,<3.0.0,>=1.7.4->spacy) (4.12.2)\n",
      "Requirement already satisfied: charset-normalizer<4,>=2 in d:\\t&c analyser\\venv\\lib\\site-packages (from requests<3.0.0,>=2.13.0->spacy) (3.4.1)\n",
      "Requirement already satisfied: idna<4,>=2.5 in d:\\t&c analyser\\venv\\lib\\site-packages (from requests<3.0.0,>=2.13.0->spacy) (3.10)\n",
      "Requirement already satisfied: urllib3<3,>=1.21.1 in d:\\t&c analyser\\venv\\lib\\site-packages (from requests<3.0.0,>=2.13.0->spacy) (2.3.0)\n",
      "Requirement already satisfied: certifi>=2017.4.17 in d:\\t&c analyser\\venv\\lib\\site-packages (from requests<3.0.0,>=2.13.0->spacy) (2025.1.31)\n",
      "Collecting blis<1.3.0,>=1.2.0 (from thinc<8.4.0,>=8.3.4->spacy)\n",
      "  Downloading blis-1.2.0-cp312-cp312-win_amd64.whl.metadata (7.9 kB)\n",
      "Collecting confection<1.0.0,>=0.0.1 (from thinc<8.4.0,>=8.3.4->spacy)\n",
      "  Downloading confection-0.1.5-py3-none-any.whl.metadata (19 kB)\n",
      "Requirement already satisfied: colorama in d:\\t&c analyser\\venv\\lib\\site-packages (from tqdm<5.0.0,>=4.38.0->spacy) (0.4.6)\n",
      "Requirement already satisfied: click>=8.0.0 in d:\\t&c analyser\\venv\\lib\\site-packages (from typer<1.0.0,>=0.3.0->spacy) (8.1.8)\n",
      "Collecting shellingham>=1.3.0 (from typer<1.0.0,>=0.3.0->spacy)\n",
      "  Using cached shellingham-1.5.4-py2.py3-none-any.whl.metadata (3.5 kB)\n",
      "Collecting rich>=10.11.0 (from typer<1.0.0,>=0.3.0->spacy)\n",
      "  Using cached rich-13.9.4-py3-none-any.whl.metadata (18 kB)\n",
      "Collecting cloudpathlib<1.0.0,>=0.7.0 (from weasel<0.5.0,>=0.1.0->spacy)\n",
      "  Downloading cloudpathlib-0.20.0-py3-none-any.whl.metadata (14 kB)\n",
      "Collecting smart-open<8.0.0,>=5.2.1 (from weasel<0.5.0,>=0.1.0->spacy)\n",
      "  Downloading smart_open-7.1.0-py3-none-any.whl.metadata (24 kB)\n",
      "Requirement already satisfied: MarkupSafe>=2.0 in d:\\t&c analyser\\venv\\lib\\site-packages (from jinja2->spacy) (3.0.2)\n",
      "Collecting marisa-trie>=1.1.0 (from language-data>=1.2->langcodes<4.0.0,>=3.2.0->spacy)\n",
      "  Downloading marisa_trie-1.2.1-cp312-cp312-win_amd64.whl.metadata (9.3 kB)\n",
      "Collecting markdown-it-py>=2.2.0 (from rich>=10.11.0->typer<1.0.0,>=0.3.0->spacy)\n",
      "  Using cached markdown_it_py-3.0.0-py3-none-any.whl.metadata (6.9 kB)\n",
      "Requirement already satisfied: pygments<3.0.0,>=2.13.0 in d:\\t&c analyser\\venv\\lib\\site-packages (from rich>=10.11.0->typer<1.0.0,>=0.3.0->spacy) (2.19.1)\n",
      "Collecting wrapt (from smart-open<8.0.0,>=5.2.1->weasel<0.5.0,>=0.1.0->spacy)\n",
      "  Using cached wrapt-1.17.2-cp312-cp312-win_amd64.whl.metadata (6.5 kB)\n",
      "Collecting mdurl~=0.1 (from markdown-it-py>=2.2.0->rich>=10.11.0->typer<1.0.0,>=0.3.0->spacy)\n",
      "  Using cached mdurl-0.1.2-py3-none-any.whl.metadata (1.6 kB)\n",
      "Downloading spacy-3.8.4-cp312-cp312-win_amd64.whl (11.8 MB)\n",
      "   ---------------------------------------- 0.0/11.8 MB ? eta -:--:--\n",
      "   ---------------------------------------- 0.0/11.8 MB ? eta -:--:--\n",
      "   ---------------------------------------- 0.0/11.8 MB ? eta -:--:--\n",
      "   ---------------------------------------- 0.0/11.8 MB ? eta -:--:--\n",
      "   ---------------------------------------- 0.0/11.8 MB ? eta -:--:--\n",
      "    --------------------------------------- 0.3/11.8 MB ? eta -:--:--\n",
      "    --------------------------------------- 0.3/11.8 MB ? eta -:--:--\n",
      "    --------------------------------------- 0.3/11.8 MB ? eta -:--:--\n",
      "   - -------------------------------------- 0.5/11.8 MB 524.3 kB/s eta 0:00:22\n",
      "   -- ------------------------------------- 0.8/11.8 MB 633.2 kB/s eta 0:00:18\n",
      "   -- ------------------------------------- 0.8/11.8 MB 633.2 kB/s eta 0:00:18\n",
      "   --- ------------------------------------ 1.0/11.8 MB 671.6 kB/s eta 0:00:16\n",
      "   ---- ----------------------------------- 1.3/11.8 MB 771.6 kB/s eta 0:00:14\n",
      "   ----- ---------------------------------- 1.6/11.8 MB 791.5 kB/s eta 0:00:13\n",
      "   ------ --------------------------------- 1.8/11.8 MB 860.4 kB/s eta 0:00:12\n",
      "   ------ --------------------------------- 1.8/11.8 MB 860.4 kB/s eta 0:00:12\n",
      "   ------- -------------------------------- 2.1/11.8 MB 783.2 kB/s eta 0:00:13\n",
      "   -------- ------------------------------- 2.4/11.8 MB 844.3 kB/s eta 0:00:12\n",
      "   -------- ------------------------------- 2.4/11.8 MB 844.3 kB/s eta 0:00:12\n",
      "   -------- ------------------------------- 2.6/11.8 MB 794.9 kB/s eta 0:00:12\n",
      "   -------- ------------------------------- 2.6/11.8 MB 794.9 kB/s eta 0:00:12\n",
      "   -------- ------------------------------- 2.6/11.8 MB 794.9 kB/s eta 0:00:12\n",
      "   --------- ------------------------------ 2.9/11.8 MB 755.9 kB/s eta 0:00:12\n",
      "   --------- ------------------------------ 2.9/11.8 MB 755.9 kB/s eta 0:00:12\n",
      "   --------- ------------------------------ 2.9/11.8 MB 755.9 kB/s eta 0:00:12\n",
      "   ---------- ----------------------------- 3.1/11.8 MB 715.4 kB/s eta 0:00:13\n",
      "   ---------- ----------------------------- 3.1/11.8 MB 715.4 kB/s eta 0:00:13\n",
      "   ----------- ---------------------------- 3.4/11.8 MB 696.7 kB/s eta 0:00:13\n",
      "   ----------- ---------------------------- 3.4/11.8 MB 696.7 kB/s eta 0:00:13\n",
      "   ------------ --------------------------- 3.7/11.8 MB 696.9 kB/s eta 0:00:12\n",
      "   ------------ --------------------------- 3.7/11.8 MB 696.9 kB/s eta 0:00:12\n",
      "   ------------- -------------------------- 3.9/11.8 MB 673.0 kB/s eta 0:00:12\n",
      "   ------------- -------------------------- 3.9/11.8 MB 673.0 kB/s eta 0:00:12\n",
      "   ------------- -------------------------- 3.9/11.8 MB 673.0 kB/s eta 0:00:12\n",
      "   ------------- -------------------------- 3.9/11.8 MB 673.0 kB/s eta 0:00:12\n",
      "   -------------- ------------------------- 4.2/11.8 MB 635.6 kB/s eta 0:00:12\n",
      "   --------------- ------------------------ 4.5/11.8 MB 645.3 kB/s eta 0:00:12\n",
      "   --------------- ------------------------ 4.5/11.8 MB 645.3 kB/s eta 0:00:12\n",
      "   --------------- ------------------------ 4.5/11.8 MB 645.3 kB/s eta 0:00:12\n",
      "   ---------------- ----------------------- 4.7/11.8 MB 629.6 kB/s eta 0:00:12\n",
      "   ---------------- ----------------------- 4.7/11.8 MB 629.6 kB/s eta 0:00:12\n",
      "   ---------------- ----------------------- 5.0/11.8 MB 630.5 kB/s eta 0:00:11\n",
      "   ---------------- ----------------------- 5.0/11.8 MB 630.5 kB/s eta 0:00:11\n",
      "   ----------------- ---------------------- 5.2/11.8 MB 635.1 kB/s eta 0:00:11\n",
      "   ----------------- ---------------------- 5.2/11.8 MB 635.1 kB/s eta 0:00:11\n",
      "   ----------------- ---------------------- 5.2/11.8 MB 635.1 kB/s eta 0:00:11\n",
      "   ------------------ --------------------- 5.5/11.8 MB 612.3 kB/s eta 0:00:11\n",
      "   ------------------ --------------------- 5.5/11.8 MB 612.3 kB/s eta 0:00:11\n",
      "   ------------------ --------------------- 5.5/11.8 MB 612.3 kB/s eta 0:00:11\n",
      "   ------------------- -------------------- 5.8/11.8 MB 607.5 kB/s eta 0:00:10\n",
      "   ------------------- -------------------- 5.8/11.8 MB 607.5 kB/s eta 0:00:10\n",
      "   -------------------- ------------------- 6.0/11.8 MB 603.1 kB/s eta 0:00:10\n",
      "   -------------------- ------------------- 6.0/11.8 MB 603.1 kB/s eta 0:00:10\n",
      "   --------------------- ------------------ 6.3/11.8 MB 604.9 kB/s eta 0:00:10\n",
      "   --------------------- ------------------ 6.3/11.8 MB 604.9 kB/s eta 0:00:10\n",
      "   ---------------------- ----------------- 6.6/11.8 MB 605.5 kB/s eta 0:00:09\n",
      "   ---------------------- ----------------- 6.6/11.8 MB 605.5 kB/s eta 0:00:09\n",
      "   ---------------------- ----------------- 6.6/11.8 MB 605.5 kB/s eta 0:00:09\n",
      "   ----------------------- ---------------- 6.8/11.8 MB 599.2 kB/s eta 0:00:09\n",
      "   ----------------------- ---------------- 6.8/11.8 MB 599.2 kB/s eta 0:00:09\n",
      "   ----------------------- ---------------- 6.8/11.8 MB 599.2 kB/s eta 0:00:09\n",
      "   ------------------------ --------------- 7.1/11.8 MB 586.3 kB/s eta 0:00:09\n",
      "   ------------------------ --------------- 7.1/11.8 MB 586.3 kB/s eta 0:00:09\n",
      "   ------------------------ --------------- 7.3/11.8 MB 584.5 kB/s eta 0:00:08\n",
      "   ------------------------ --------------- 7.3/11.8 MB 584.5 kB/s eta 0:00:08\n",
      "   ------------------------ --------------- 7.3/11.8 MB 584.5 kB/s eta 0:00:08\n",
      "   ------------------------ --------------- 7.3/11.8 MB 584.5 kB/s eta 0:00:08\n",
      "   ------------------------- -------------- 7.6/11.8 MB 575.7 kB/s eta 0:00:08\n",
      "   ------------------------- -------------- 7.6/11.8 MB 575.7 kB/s eta 0:00:08\n",
      "   -------------------------- ------------- 7.9/11.8 MB 571.8 kB/s eta 0:00:07\n",
      "   -------------------------- ------------- 7.9/11.8 MB 571.8 kB/s eta 0:00:07\n",
      "   -------------------------- ------------- 7.9/11.8 MB 571.8 kB/s eta 0:00:07\n",
      "   --------------------------- ------------ 8.1/11.8 MB 564.9 kB/s eta 0:00:07\n",
      "   --------------------------- ------------ 8.1/11.8 MB 564.9 kB/s eta 0:00:07\n",
      "   --------------------------- ------------ 8.1/11.8 MB 564.9 kB/s eta 0:00:07\n",
      "   --------------------------- ------------ 8.1/11.8 MB 564.9 kB/s eta 0:00:07\n",
      "   --------------------------- ------------ 8.1/11.8 MB 564.9 kB/s eta 0:00:07\n",
      "   --------------------------- ------------ 8.1/11.8 MB 564.9 kB/s eta 0:00:07\n",
      "   ---------------------------- ----------- 8.4/11.8 MB 539.5 kB/s eta 0:00:07\n",
      "   ---------------------------- ----------- 8.4/11.8 MB 539.5 kB/s eta 0:00:07\n",
      "   ----------------------------- ---------- 8.7/11.8 MB 537.4 kB/s eta 0:00:06\n",
      "   ----------------------------- ---------- 8.7/11.8 MB 537.4 kB/s eta 0:00:06\n",
      "   ----------------------------- ---------- 8.7/11.8 MB 537.4 kB/s eta 0:00:06\n",
      "   ------------------------------ --------- 8.9/11.8 MB 537.5 kB/s eta 0:00:06\n",
      "   ------------------------------ --------- 8.9/11.8 MB 537.5 kB/s eta 0:00:06\n",
      "   ------------------------------- -------- 9.2/11.8 MB 537.6 kB/s eta 0:00:05\n",
      "   ------------------------------- -------- 9.2/11.8 MB 537.6 kB/s eta 0:00:05\n",
      "   -------------------------------- ------- 9.4/11.8 MB 542.2 kB/s eta 0:00:05\n",
      "   -------------------------------- ------- 9.4/11.8 MB 542.2 kB/s eta 0:00:05\n",
      "   -------------------------------- ------- 9.7/11.8 MB 542.2 kB/s eta 0:00:04\n",
      "   -------------------------------- ------- 9.7/11.8 MB 542.2 kB/s eta 0:00:04\n",
      "   --------------------------------- ------ 10.0/11.8 MB 543.6 kB/s eta 0:00:04\n",
      "   --------------------------------- ------ 10.0/11.8 MB 543.6 kB/s eta 0:00:04\n",
      "   --------------------------------- ------ 10.0/11.8 MB 543.6 kB/s eta 0:00:04\n",
      "   --------------------------------- ------ 10.0/11.8 MB 543.6 kB/s eta 0:00:04\n",
      "   ---------------------------------- ----- 10.2/11.8 MB 536.7 kB/s eta 0:00:03\n",
      "   ---------------------------------- ----- 10.2/11.8 MB 536.7 kB/s eta 0:00:03\n",
      "   ---------------------------------- ----- 10.2/11.8 MB 536.7 kB/s eta 0:00:03\n",
      "   ----------------------------------- ---- 10.5/11.8 MB 534.1 kB/s eta 0:00:03\n",
      "   ----------------------------------- ---- 10.5/11.8 MB 534.1 kB/s eta 0:00:03\n",
      "   ------------------------------------ --- 10.7/11.8 MB 534.3 kB/s eta 0:00:02\n",
      "   ------------------------------------ --- 10.7/11.8 MB 534.3 kB/s eta 0:00:02\n",
      "   ------------------------------------- -- 11.0/11.8 MB 534.1 kB/s eta 0:00:02\n",
      "   ------------------------------------- -- 11.0/11.8 MB 534.1 kB/s eta 0:00:02\n",
      "   -------------------------------------- - 11.3/11.8 MB 535.9 kB/s eta 0:00:01\n",
      "   ---------------------------------------  11.5/11.8 MB 542.4 kB/s eta 0:00:01\n",
      "   ---------------------------------------  11.5/11.8 MB 542.4 kB/s eta 0:00:01\n",
      "   ---------------------------------------  11.5/11.8 MB 542.4 kB/s eta 0:00:01\n",
      "   ---------------------------------------- 11.8/11.8 MB 538.4 kB/s eta 0:00:00\n",
      "Downloading catalogue-2.0.10-py3-none-any.whl (17 kB)\n",
      "Downloading cymem-2.0.11-cp312-cp312-win_amd64.whl (39 kB)\n",
      "Downloading langcodes-3.5.0-py3-none-any.whl (182 kB)\n",
      "Downloading murmurhash-1.0.12-cp312-cp312-win_amd64.whl (25 kB)\n",
      "Downloading preshed-3.0.9-cp312-cp312-win_amd64.whl (122 kB)\n",
      "Using cached pydantic-2.10.6-py3-none-any.whl (431 kB)\n",
      "Using cached pydantic_core-2.27.2-cp312-cp312-win_amd64.whl (2.0 MB)\n",
      "Downloading spacy_legacy-3.0.12-py2.py3-none-any.whl (29 kB)\n",
      "Downloading spacy_loggers-1.0.5-py3-none-any.whl (22 kB)\n",
      "Downloading srsly-2.5.1-cp312-cp312-win_amd64.whl (632 kB)\n",
      "   ---------------------------------------- 0.0/632.6 kB ? eta -:--:--\n",
      "   ---------------------------------------- 0.0/632.6 kB ? eta -:--:--\n",
      "   ---------------- ----------------------- 262.1/632.6 kB ? eta -:--:--\n",
      "   ---------------- ----------------------- 262.1/632.6 kB ? eta -:--:--\n",
      "   ---------------- ----------------------- 262.1/632.6 kB ? eta -:--:--\n",
      "   ---------------- ----------------------- 262.1/632.6 kB ? eta -:--:--\n",
      "   -------------------------------------- 632.6/632.6 kB 423.4 kB/s eta 0:00:00\n",
      "Downloading thinc-8.3.4-cp312-cp312-win_amd64.whl (1.5 MB)\n",
      "   ---------------------------------------- 0.0/1.5 MB ? eta -:--:--\n",
      "   ---------------------------------------- 0.0/1.5 MB ? eta -:--:--\n",
      "   ---------------------------------------- 0.0/1.5 MB ? eta -:--:--\n",
      "   ---------------------------------------- 0.0/1.5 MB ? eta -:--:--\n",
      "   ------- -------------------------------- 0.3/1.5 MB ? eta -:--:--\n",
      "   ------- -------------------------------- 0.3/1.5 MB ? eta -:--:--\n",
      "   -------------- ------------------------- 0.5/1.5 MB 621.2 kB/s eta 0:00:02\n",
      "   --------------------- ------------------ 0.8/1.5 MB 713.3 kB/s eta 0:00:01\n",
      "   --------------------- ------------------ 0.8/1.5 MB 713.3 kB/s eta 0:00:01\n",
      "   ---------------------------- ----------- 1.0/1.5 MB 718.9 kB/s eta 0:00:01\n",
      "   ---------------------------- ----------- 1.0/1.5 MB 718.9 kB/s eta 0:00:01\n",
      "   ------------------------------------ --- 1.3/1.5 MB 691.7 kB/s eta 0:00:01\n",
      "   ------------------------------------ --- 1.3/1.5 MB 691.7 kB/s eta 0:00:01\n",
      "   ---------------------------------------- 1.5/1.5 MB 636.7 kB/s eta 0:00:00\n",
      "Downloading typer-0.15.1-py3-none-any.whl (44 kB)\n",
      "Downloading wasabi-1.1.3-py3-none-any.whl (27 kB)\n",
      "Downloading weasel-0.4.1-py3-none-any.whl (50 kB)\n",
      "Using cached annotated_types-0.7.0-py3-none-any.whl (13 kB)\n",
      "Downloading blis-1.2.0-cp312-cp312-win_amd64.whl (6.3 MB)\n",
      "   ---------------------------------------- 0.0/6.3 MB ? eta -:--:--\n",
      "   ---------------------------------------- 0.0/6.3 MB ? eta -:--:--\n",
      "   - -------------------------------------- 0.3/6.3 MB ? eta -:--:--\n",
      "   - -------------------------------------- 0.3/6.3 MB ? eta -:--:--\n",
      "   - -------------------------------------- 0.3/6.3 MB ? eta -:--:--\n",
      "   --- ------------------------------------ 0.5/6.3 MB 509.0 kB/s eta 0:00:12\n",
      "   --- ------------------------------------ 0.5/6.3 MB 509.0 kB/s eta 0:00:12\n",
      "   ----- ---------------------------------- 0.8/6.3 MB 578.7 kB/s eta 0:00:10\n",
      "   ----- ---------------------------------- 0.8/6.3 MB 578.7 kB/s eta 0:00:10\n",
      "   ----- ---------------------------------- 0.8/6.3 MB 578.7 kB/s eta 0:00:10\n",
      "   ------ --------------------------------- 1.0/6.3 MB 470.6 kB/s eta 0:00:12\n",
      "   ------ --------------------------------- 1.0/6.3 MB 470.6 kB/s eta 0:00:12\n",
      "   -------- ------------------------------- 1.3/6.3 MB 508.5 kB/s eta 0:00:10\n",
      "   ---------- ----------------------------- 1.6/6.3 MB 563.0 kB/s eta 0:00:09\n",
      "   ---------- ----------------------------- 1.6/6.3 MB 563.0 kB/s eta 0:00:09\n",
      "   ---------- ----------------------------- 1.6/6.3 MB 563.0 kB/s eta 0:00:09\n",
      "   ----------- ---------------------------- 1.8/6.3 MB 547.1 kB/s eta 0:00:09\n",
      "   ----------- ---------------------------- 1.8/6.3 MB 547.1 kB/s eta 0:00:09\n",
      "   ----------- ---------------------------- 1.8/6.3 MB 547.1 kB/s eta 0:00:09\n",
      "   ------------- -------------------------- 2.1/6.3 MB 536.4 kB/s eta 0:00:08\n",
      "   ------------- -------------------------- 2.1/6.3 MB 536.4 kB/s eta 0:00:08\n",
      "   --------------- ------------------------ 2.4/6.3 MB 536.9 kB/s eta 0:00:08\n",
      "   --------------- ------------------------ 2.4/6.3 MB 536.9 kB/s eta 0:00:08\n",
      "   ---------------- ----------------------- 2.6/6.3 MB 533.7 kB/s eta 0:00:07\n",
      "   ---------------- ----------------------- 2.6/6.3 MB 533.7 kB/s eta 0:00:07\n",
      "   ------------------ --------------------- 2.9/6.3 MB 534.3 kB/s eta 0:00:07\n",
      "   ------------------ --------------------- 2.9/6.3 MB 534.3 kB/s eta 0:00:07\n",
      "   -------------------- ------------------- 3.1/6.3 MB 549.3 kB/s eta 0:00:06\n",
      "   -------------------- ------------------- 3.1/6.3 MB 549.3 kB/s eta 0:00:06\n",
      "   -------------------- ------------------- 3.1/6.3 MB 549.3 kB/s eta 0:00:06\n",
      "   --------------------- ------------------ 3.4/6.3 MB 542.7 kB/s eta 0:00:06\n",
      "   ----------------------- ---------------- 3.7/6.3 MB 553.6 kB/s eta 0:00:05\n",
      "   ----------------------- ---------------- 3.7/6.3 MB 553.6 kB/s eta 0:00:05\n",
      "   ------------------------- -------------- 3.9/6.3 MB 567.4 kB/s eta 0:00:05\n",
      "   -------------------------- ------------- 4.2/6.3 MB 586.6 kB/s eta 0:00:04\n",
      "   -------------------------- ------------- 4.2/6.3 MB 586.6 kB/s eta 0:00:04\n",
      "   ---------------------------- ----------- 4.5/6.3 MB 595.3 kB/s eta 0:00:04\n",
      "   ------------------------------ --------- 4.7/6.3 MB 610.8 kB/s eta 0:00:03\n",
      "   ------------------------------- -------- 5.0/6.3 MB 618.8 kB/s eta 0:00:03\n",
      "   ------------------------------- -------- 5.0/6.3 MB 618.8 kB/s eta 0:00:03\n",
      "   --------------------------------- ------ 5.2/6.3 MB 623.8 kB/s eta 0:00:02\n",
      "   --------------------------------- ------ 5.2/6.3 MB 623.8 kB/s eta 0:00:02\n",
      "   ----------------------------------- ---- 5.5/6.3 MB 623.7 kB/s eta 0:00:02\n",
      "   ----------------------------------- ---- 5.5/6.3 MB 623.7 kB/s eta 0:00:02\n",
      "   ------------------------------------ --- 5.8/6.3 MB 626.9 kB/s eta 0:00:01\n",
      "   ------------------------------------ --- 5.8/6.3 MB 626.9 kB/s eta 0:00:01\n",
      "   -------------------------------------- - 6.0/6.3 MB 633.1 kB/s eta 0:00:01\n",
      "   -------------------------------------- - 6.0/6.3 MB 633.1 kB/s eta 0:00:01\n",
      "   ---------------------------------------- 6.3/6.3 MB 629.1 kB/s eta 0:00:00\n",
      "Downloading cloudpathlib-0.20.0-py3-none-any.whl (52 kB)\n",
      "Downloading confection-0.1.5-py3-none-any.whl (35 kB)\n",
      "Downloading language_data-1.3.0-py3-none-any.whl (5.4 MB)\n",
      "   ---------------------------------------- 0.0/5.4 MB ? eta -:--:--\n",
      "   ---------------------------------------- 0.0/5.4 MB ? eta -:--:--\n",
      "   - -------------------------------------- 0.3/5.4 MB ? eta -:--:--\n",
      "   - -------------------------------------- 0.3/5.4 MB ? eta -:--:--\n",
      "   - -------------------------------------- 0.3/5.4 MB ? eta -:--:--\n",
      "   --- ------------------------------------ 0.5/5.4 MB 598.5 kB/s eta 0:00:09\n",
      "   --- ------------------------------------ 0.5/5.4 MB 598.5 kB/s eta 0:00:09\n",
      "   ----- ---------------------------------- 0.8/5.4 MB 588.4 kB/s eta 0:00:08\n",
      "   ------- -------------------------------- 1.0/5.4 MB 645.1 kB/s eta 0:00:07\n",
      "   ------- -------------------------------- 1.0/5.4 MB 645.1 kB/s eta 0:00:07\n",
      "   --------- ------------------------------ 1.3/5.4 MB 664.5 kB/s eta 0:00:07\n",
      "   --------- ------------------------------ 1.3/5.4 MB 664.5 kB/s eta 0:00:07\n",
      "   ----------- ---------------------------- 1.6/5.4 MB 693.1 kB/s eta 0:00:06\n",
      "   ------------- -------------------------- 1.8/5.4 MB 729.5 kB/s eta 0:00:05\n",
      "   --------------- ------------------------ 2.1/5.4 MB 748.1 kB/s eta 0:00:05\n",
      "   --------------- ------------------------ 2.1/5.4 MB 748.1 kB/s eta 0:00:05\n",
      "   ----------------- ---------------------- 2.4/5.4 MB 758.2 kB/s eta 0:00:04\n",
      "   ----------------- ---------------------- 2.4/5.4 MB 758.2 kB/s eta 0:00:04\n",
      "   ------------------- -------------------- 2.6/5.4 MB 729.3 kB/s eta 0:00:04\n",
      "   ------------------- -------------------- 2.6/5.4 MB 729.3 kB/s eta 0:00:04\n",
      "   --------------------- ------------------ 2.9/5.4 MB 720.0 kB/s eta 0:00:04\n",
      "   --------------------- ------------------ 2.9/5.4 MB 720.0 kB/s eta 0:00:04\n",
      "   --------------------- ------------------ 2.9/5.4 MB 720.0 kB/s eta 0:00:04\n",
      "   ----------------------- ---------------- 3.1/5.4 MB 683.5 kB/s eta 0:00:04\n",
      "   ----------------------- ---------------- 3.1/5.4 MB 683.5 kB/s eta 0:00:04\n",
      "   ------------------------- -------------- 3.4/5.4 MB 671.0 kB/s eta 0:00:03\n",
      "   ------------------------- -------------- 3.4/5.4 MB 671.0 kB/s eta 0:00:03\n",
      "   --------------------------- ------------ 3.7/5.4 MB 679.4 kB/s eta 0:00:03\n",
      "   ----------------------------- ---------- 3.9/5.4 MB 686.8 kB/s eta 0:00:03\n",
      "   ------------------------------- -------- 4.2/5.4 MB 702.9 kB/s eta 0:00:02\n",
      "   ------------------------------- -------- 4.2/5.4 MB 702.9 kB/s eta 0:00:02\n",
      "   --------------------------------- ------ 4.5/5.4 MB 710.2 kB/s eta 0:00:02\n",
      "   --------------------------------- ------ 4.5/5.4 MB 710.2 kB/s eta 0:00:02\n",
      "   --------------------------------- ------ 4.5/5.4 MB 710.2 kB/s eta 0:00:02\n",
      "   ----------------------------------- ---- 4.7/5.4 MB 683.9 kB/s eta 0:00:01\n",
      "   ----------------------------------- ---- 4.7/5.4 MB 683.9 kB/s eta 0:00:01\n",
      "   ----------------------------------- ---- 4.7/5.4 MB 683.9 kB/s eta 0:00:01\n",
      "   ------------------------------------ --- 5.0/5.4 MB 666.7 kB/s eta 0:00:01\n",
      "   ------------------------------------ --- 5.0/5.4 MB 666.7 kB/s eta 0:00:01\n",
      "   -------------------------------------- - 5.2/5.4 MB 649.2 kB/s eta 0:00:01\n",
      "   -------------------------------------- - 5.2/5.4 MB 649.2 kB/s eta 0:00:01\n",
      "   ---------------------------------------- 5.4/5.4 MB 644.2 kB/s eta 0:00:00\n",
      "Using cached rich-13.9.4-py3-none-any.whl (242 kB)\n",
      "Using cached shellingham-1.5.4-py2.py3-none-any.whl (9.8 kB)\n",
      "Downloading smart_open-7.1.0-py3-none-any.whl (61 kB)\n",
      "Downloading marisa_trie-1.2.1-cp312-cp312-win_amd64.whl (150 kB)\n",
      "Using cached markdown_it_py-3.0.0-py3-none-any.whl (87 kB)\n",
      "Using cached wrapt-1.17.2-cp312-cp312-win_amd64.whl (38 kB)\n",
      "Using cached mdurl-0.1.2-py3-none-any.whl (10.0 kB)\n",
      "Installing collected packages: cymem, wrapt, wasabi, spacy-loggers, spacy-legacy, shellingham, pydantic-core, murmurhash, mdurl, marisa-trie, cloudpathlib, catalogue, blis, annotated-types, srsly, smart-open, pydantic, preshed, markdown-it-py, language-data, rich, langcodes, confection, typer, thinc, weasel, spacy\n",
      "Successfully installed annotated-types-0.7.0 blis-1.2.0 catalogue-2.0.10 cloudpathlib-0.20.0 confection-0.1.5 cymem-2.0.11 langcodes-3.5.0 language-data-1.3.0 marisa-trie-1.2.1 markdown-it-py-3.0.0 mdurl-0.1.2 murmurhash-1.0.12 preshed-3.0.9 pydantic-2.10.6 pydantic-core-2.27.2 rich-13.9.4 shellingham-1.5.4 smart-open-7.1.0 spacy-3.8.4 spacy-legacy-3.0.12 spacy-loggers-1.0.5 srsly-2.5.1 thinc-8.3.4 typer-0.15.1 wasabi-1.1.3 weasel-0.4.1 wrapt-1.17.2\n"
     ]
    }
   ],
   "source": [
    "%pip install spacy"
   ]
  },
  {
   "cell_type": "code",
   "execution_count": 2,
   "metadata": {},
   "outputs": [],
   "source": [
    "from config import SPACY_MODEL\n",
    "import spacy\n",
    "\n",
    "model=spacy.load(SPACY_MODEL)"
   ]
  },
  {
   "cell_type": "code",
   "execution_count": 3,
   "metadata": {},
   "outputs": [],
   "source": [
    "text=\"\"\"\n",
    "Apple Inc. is planning to launch the new iPhone 15 in California on September 12, 2025, with a starting price of $999.\n",
    "\"\"\""
   ]
  },
  {
   "cell_type": "code",
   "execution_count": 4,
   "metadata": {},
   "outputs": [],
   "source": [
    "doc=model(text)\n"
   ]
  },
  {
   "cell_type": "code",
   "execution_count": 5,
   "metadata": {},
   "outputs": [
    {
     "name": "stdout",
     "output_type": "stream",
     "text": [
      "\n",
      "Apple Inc. is planning to launch the new iPhone 15 in California on September 12, 2025, with a starting price of $999.\n",
      "\n"
     ]
    }
   ],
   "source": [
    "print(doc)"
   ]
  },
  {
   "cell_type": "code",
   "execution_count": 6,
   "metadata": {},
   "outputs": [
    {
     "name": "stdout",
     "output_type": "stream",
     "text": [
      "{'Apple Inc.': 'ORG', '15': 'CARDINAL', 'California': 'GPE', 'September 12, 2025': 'DATE', '999': 'MONEY'}\n"
     ]
    }
   ],
   "source": [
    "ents={ent.text :ent.label_ for ent in doc.ents }\n",
    "print(ents)"
   ]
  },
  {
   "cell_type": "code",
   "execution_count": 7,
   "metadata": {},
   "outputs": [
    {
     "name": "stdout",
     "output_type": "stream",
     "text": [
      "Requirement already satisfied: sentencepiece in d:\\tnc analyser\\venv\\lib\\site-packages (0.2.0)\n",
      "Note: you may need to restart the kernel to use updated packages.\n",
      "Requirement already satisfied: transformers in d:\\tnc analyser\\venv\\lib\\site-packages (4.49.0)\n",
      "Requirement already satisfied: filelock in d:\\tnc analyser\\venv\\lib\\site-packages (from transformers) (3.17.0)\n",
      "Requirement already satisfied: huggingface-hub<1.0,>=0.26.0 in d:\\tnc analyser\\venv\\lib\\site-packages (from transformers) (0.29.2)\n",
      "Requirement already satisfied: numpy>=1.17 in d:\\tnc analyser\\venv\\lib\\site-packages (from transformers) (2.2.3)\n",
      "Requirement already satisfied: packaging>=20.0 in d:\\tnc analyser\\venv\\lib\\site-packages (from transformers) (24.2)\n",
      "Requirement already satisfied: pyyaml>=5.1 in d:\\tnc analyser\\venv\\lib\\site-packages (from transformers) (6.0.2)\n",
      "Requirement already satisfied: regex!=2019.12.17 in d:\\tnc analyser\\venv\\lib\\site-packages (from transformers) (2024.11.6)\n",
      "Requirement already satisfied: requests in d:\\tnc analyser\\venv\\lib\\site-packages (from transformers) (2.32.3)\n",
      "Requirement already satisfied: tokenizers<0.22,>=0.21 in d:\\tnc analyser\\venv\\lib\\site-packages (from transformers) (0.21.0)\n",
      "Requirement already satisfied: safetensors>=0.4.1 in d:\\tnc analyser\\venv\\lib\\site-packages (from transformers) (0.5.3)\n",
      "Requirement already satisfied: tqdm>=4.27 in d:\\tnc analyser\\venv\\lib\\site-packages (from transformers) (4.67.1)\n",
      "Requirement already satisfied: fsspec>=2023.5.0 in d:\\tnc analyser\\venv\\lib\\site-packages (from huggingface-hub<1.0,>=0.26.0->transformers) (2025.3.0)\n",
      "Requirement already satisfied: typing-extensions>=3.7.4.3 in d:\\tnc analyser\\venv\\lib\\site-packages (from huggingface-hub<1.0,>=0.26.0->transformers) (4.12.2)\n",
      "Requirement already satisfied: colorama in d:\\tnc analyser\\venv\\lib\\site-packages (from tqdm>=4.27->transformers) (0.4.6)\n",
      "Requirement already satisfied: charset-normalizer<4,>=2 in d:\\tnc analyser\\venv\\lib\\site-packages (from requests->transformers) (3.4.1)\n",
      "Requirement already satisfied: idna<4,>=2.5 in d:\\tnc analyser\\venv\\lib\\site-packages (from requests->transformers) (3.10)\n",
      "Requirement already satisfied: urllib3<3,>=1.21.1 in d:\\tnc analyser\\venv\\lib\\site-packages (from requests->transformers) (2.3.0)\n",
      "Requirement already satisfied: certifi>=2017.4.17 in d:\\tnc analyser\\venv\\lib\\site-packages (from requests->transformers) (2025.1.31)\n",
      "Note: you may need to restart the kernel to use updated packages.\n"
     ]
    }
   ],
   "source": [
    "%pip install sentencepiece\n",
    "%pip install transformers\n"
   ]
  },
  {
   "cell_type": "code",
   "execution_count": 8,
   "metadata": {},
   "outputs": [
    {
     "name": "stdout",
     "output_type": "stream",
     "text": [
      "Requirement already satisfied: torch in d:\\tnc analyser\\venv\\lib\\site-packages (2.6.0)\n",
      "Requirement already satisfied: filelock in d:\\tnc analyser\\venv\\lib\\site-packages (from torch) (3.17.0)\n",
      "Requirement already satisfied: typing-extensions>=4.10.0 in d:\\tnc analyser\\venv\\lib\\site-packages (from torch) (4.12.2)\n",
      "Requirement already satisfied: networkx in d:\\tnc analyser\\venv\\lib\\site-packages (from torch) (3.4.2)\n",
      "Requirement already satisfied: jinja2 in d:\\tnc analyser\\venv\\lib\\site-packages (from torch) (3.1.6)\n",
      "Requirement already satisfied: fsspec in d:\\tnc analyser\\venv\\lib\\site-packages (from torch) (2025.3.0)\n",
      "Requirement already satisfied: setuptools in d:\\tnc analyser\\venv\\lib\\site-packages (from torch) (75.8.0)\n",
      "Requirement already satisfied: sympy==1.13.1 in d:\\tnc analyser\\venv\\lib\\site-packages (from torch) (1.13.1)\n",
      "Requirement already satisfied: mpmath<1.4,>=1.1.0 in d:\\tnc analyser\\venv\\lib\\site-packages (from sympy==1.13.1->torch) (1.3.0)\n",
      "Requirement already satisfied: MarkupSafe>=2.0 in d:\\tnc analyser\\venv\\lib\\site-packages (from jinja2->torch) (3.0.2)\n",
      "Note: you may need to restart the kernel to use updated packages.\n"
     ]
    }
   ],
   "source": [
    "%pip install torch"
   ]
  },
  {
   "cell_type": "code",
   "execution_count": 9,
   "metadata": {},
   "outputs": [
    {
     "name": "stderr",
     "output_type": "stream",
     "text": [
      "d:\\TnC Analyser\\venv\\Lib\\site-packages\\tqdm\\auto.py:21: TqdmWarning: IProgress not found. Please update jupyter and ipywidgets. See https://ipywidgets.readthedocs.io/en/stable/user_install.html\n",
      "  from .autonotebook import tqdm as notebook_tqdm\n",
      "Some weights of PegasusForConditionalGeneration were not initialized from the model checkpoint at google/pegasus-cnn_dailymail and are newly initialized: ['model.decoder.embed_positions.weight', 'model.encoder.embed_positions.weight']\n",
      "You should probably TRAIN this model on a down-stream task to be able to use it for predictions and inference.\n"
     ]
    }
   ],
   "source": [
    "from config import SUMMARIZATION_MODEL\n",
    "from transformers import PegasusTokenizer, PegasusForConditionalGeneration\n",
    "tokenizer=PegasusTokenizer.from_pretrained(SUMMARIZATION_MODEL)\n",
    "summarizer=PegasusForConditionalGeneration.from_pretrained(SUMMARIZATION_MODEL)\n",
    "def summarize(text):\n",
    "    input=tokenizer(text,truncation=True,padding=\"longest\",return_tensors=\"pt\")\n",
    "    summary_ytd=summarizer.generate(\n",
    "        input['input_ids'],\n",
    "        max_length=200,\n",
    "        num_beams=7,\n",
    "        length_penalty=2.0,\n",
    "        early_stopping=True\n",
    "    )\n",
    "    summary=tokenizer.decode(summary_ytd[0],skip_special_tokens=True)\n",
    "    return summary\n"
   ]
  },
  {
   "cell_type": "code",
   "execution_count": 10,
   "metadata": {},
   "outputs": [],
   "source": [
    "text=\"All content on this platform, including logos, text, graphics, and software, is owned by or licensed to us and is protected under copyright laws. You may not copy, distribute, or create derivative works without prior written consent.\"\n",
    "sol=summarize(text)"
   ]
  },
  {
   "cell_type": "code",
   "execution_count": 11,
   "metadata": {},
   "outputs": [
    {
     "data": {
      "text/plain": [
       "'All content on this platform is owned by or licensed to us and is protected under copyright laws .<n>You may not copy, distribute, or create derivative works without prior written consent .'"
      ]
     },
     "execution_count": 11,
     "metadata": {},
     "output_type": "execute_result"
    }
   ],
   "source": [
    "sol"
   ]
  },
  {
   "cell_type": "code",
   "execution_count": 1,
   "metadata": {},
   "outputs": [],
   "source": [
    "import spacy"
   ]
  },
  {
   "cell_type": "code",
   "execution_count": 2,
   "metadata": {},
   "outputs": [
    {
     "data": {
      "text/plain": [
       "'3.8.4'"
      ]
     },
     "execution_count": 2,
     "metadata": {},
     "output_type": "execute_result"
    }
   ],
   "source": [
    "spacy.__version__"
   ]
  },
  {
   "cell_type": "code",
   "execution_count": null,
   "metadata": {},
   "outputs": [],
   "source": []
  }
 ],
 "metadata": {
  "kernelspec": {
   "display_name": "Python 3",
   "language": "python",
   "name": "python3"
  },
  "language_info": {
   "codemirror_mode": {
    "name": "ipython",
    "version": 3
   },
   "file_extension": ".py",
   "mimetype": "text/x-python",
   "name": "python",
   "nbconvert_exporter": "python",
   "pygments_lexer": "ipython3",
   "version": "3.12.4"
  }
 },
 "nbformat": 4,
 "nbformat_minor": 2
}
